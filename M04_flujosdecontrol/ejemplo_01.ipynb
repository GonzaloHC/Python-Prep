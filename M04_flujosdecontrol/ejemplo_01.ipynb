{
 "cells": [
  {
   "cell_type": "code",
   "execution_count": 1,
   "metadata": {},
   "outputs": [
    {
     "name": "stdout",
     "output_type": "stream",
     "text": [
      "num 0\n",
      "num 1\n",
      "num 2\n",
      "num 3\n",
      "num 4\n",
      "num 5\n"
     ]
    }
   ],
   "source": [
    "num = 0\n",
    "while num<6:\n",
    "    print(\"num\",num)\n",
    "    num = num + 1"
   ]
  },
  {
   "cell_type": "code",
   "execution_count": 2,
   "metadata": {},
   "outputs": [
    {
     "name": "stdout",
     "output_type": "stream",
     "text": [
      "G\n",
      "o\n",
      "n\n",
      "z\n",
      "a\n",
      "Se encontró la l\n"
     ]
    }
   ],
   "source": [
    "cadena = \"Gonzalo\"\n",
    "for letra in cadena:\n",
    "    if letra==\"l\":\n",
    "        print(\"Se encontró la l\")\n",
    "        break\n",
    "    print(letra)\n"
   ]
  },
  {
   "cell_type": "code",
   "execution_count": 3,
   "metadata": {},
   "outputs": [
    {
     "name": "stdout",
     "output_type": "stream",
     "text": [
      "4\n",
      "3\n",
      "2\n",
      "1\n",
      "0\n",
      "Fin del bucle\n"
     ]
    }
   ],
   "source": [
    "x = 5\n",
    "while True:\n",
    "    x-=1\n",
    "    print(x)\n",
    "    if x == 0:\n",
    "        break\n",
    "print(\"Fin del bucle\")\n"
   ]
  },
  {
   "cell_type": "code",
   "execution_count": 4,
   "metadata": {},
   "outputs": [
    {
     "name": "stdout",
     "output_type": "stream",
     "text": [
      "G\n",
      "o\n",
      "z\n",
      "a\n",
      "l\n",
      "o\n"
     ]
    }
   ],
   "source": [
    "cadena = \"Gonzalo\"\n",
    "for letra in cadena:\n",
    "    if letra == \"n\":\n",
    "        continue\n",
    "    print(letra)\n"
   ]
  },
  {
   "cell_type": "code",
   "execution_count": null,
   "metadata": {},
   "outputs": [],
   "source": []
  }
 ],
 "metadata": {
  "kernelspec": {
   "display_name": "Python 3",
   "language": "python",
   "name": "python3"
  },
  "language_info": {
   "codemirror_mode": {
    "name": "ipython",
    "version": 3
   },
   "file_extension": ".py",
   "mimetype": "text/x-python",
   "name": "python",
   "nbconvert_exporter": "python",
   "pygments_lexer": "ipython3",
   "version": "3.8.12"
  }
 },
 "nbformat": 4,
 "nbformat_minor": 2
}
