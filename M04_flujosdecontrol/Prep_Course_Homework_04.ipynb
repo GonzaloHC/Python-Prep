{
 "cells": [
  {
   "attachments": {},
   "cell_type": "markdown",
   "metadata": {},
   "source": [
    "## Flujos de Control"
   ]
  },
  {
   "attachments": {},
   "cell_type": "markdown",
   "metadata": {},
   "source": [
    "1) Crear una variable que contenga un elemento del conjunto de números enteros y luego imprimir por pantalla si es mayor o menor a cero"
   ]
  },
  {
   "cell_type": "code",
   "execution_count": 12,
   "metadata": {},
   "outputs": [
    {
     "name": "stdout",
     "output_type": "stream",
     "text": [
      "El número es mayor a cero\n"
     ]
    }
   ],
   "source": [
    "a = 23\n",
    "if a>0:\n",
    "    print('El número es mayor a cero')\n",
    "elif a<0:\n",
    "    print('El número es menor a cero')\n",
    "else:\n",
    "    print('El número es igual a cero')"
   ]
  },
  {
   "cell_type": "code",
   "execution_count": null,
   "metadata": {},
   "outputs": [
    {
     "name": "stdout",
     "output_type": "stream",
     "text": [
      "El número es mayor a cero\n"
     ]
    }
   ],
   "source": [
    "a = 23\n",
    "if a>0:\n",
    "    print('El número es mayor a cero')\n",
    "elif a<0:\n",
    "    print('El número es menor a cero')\n",
    "else:\n",
    "    print('El número es igual a cero')"
   ]
  },
  {
   "attachments": {},
   "cell_type": "markdown",
   "metadata": {},
   "source": [
    "2) Crear dos variables y un condicional que informe si son del mismo tipo de dato"
   ]
  },
  {
   "cell_type": "code",
   "execution_count": 6,
   "metadata": {},
   "outputs": [
    {
     "name": "stdout",
     "output_type": "stream",
     "text": [
      "Son tipos de datos diferentes\n"
     ]
    }
   ],
   "source": [
    "a = 23\n",
    "b = 'Hola'\n",
    "if type(a) == type(b):\n",
    "    print('Son el mismo tipo de dato')\n",
    "else:\n",
    "    print('Son tipos de datos diferentes')"
   ]
  },
  {
   "attachments": {},
   "cell_type": "markdown",
   "metadata": {},
   "source": [
    "3) Para los valores enteros del 1 al 20, imprimir por pantalla si es par o impar"
   ]
  },
  {
   "cell_type": "code",
   "execution_count": 13,
   "metadata": {},
   "outputs": [
    {
     "name": "stdout",
     "output_type": "stream",
     "text": [
      "1  is impar\n",
      "2  es par\n",
      "3  is impar\n",
      "4  es par\n",
      "5  is impar\n",
      "6  es par\n",
      "7  is impar\n",
      "8  es par\n",
      "9  is impar\n",
      "10  es par\n",
      "11  is impar\n",
      "12  es par\n",
      "13  is impar\n",
      "14  es par\n",
      "15  is impar\n",
      "16  es par\n",
      "17  is impar\n",
      "18  es par\n",
      "19  is impar\n",
      "20  es par\n"
     ]
    }
   ],
   "source": [
    "for x in range(1,21):\n",
    "    if x % 2 ==0:\n",
    "        print(str(x), ' es par')\n",
    "    else:\n",
    "        print(str(x), ' is impar')"
   ]
  },
  {
   "attachments": {},
   "cell_type": "markdown",
   "metadata": {},
   "source": [
    "4) En un ciclo for mostrar para los valores entre 0 y 5 el resultado de elevarlo a la potencia igual a 3"
   ]
  },
  {
   "cell_type": "code",
   "execution_count": 9,
   "metadata": {},
   "outputs": [
    {
     "name": "stdout",
     "output_type": "stream",
     "text": [
      "0\n",
      "1\n",
      "8\n",
      "27\n",
      "64\n"
     ]
    }
   ],
   "source": [
    "for x in range(0,6):\n",
    "    print(x**3)"
   ]
  },
  {
   "attachments": {},
   "cell_type": "markdown",
   "metadata": {},
   "source": [
    "5) Crear una variable que contenga un número entero y realizar un ciclo for la misma cantidad de ciclos"
   ]
  },
  {
   "cell_type": "code",
   "execution_count": 14,
   "metadata": {},
   "outputs": [
    {
     "name": "stdout",
     "output_type": "stream",
     "text": [
      "5\n"
     ]
    }
   ],
   "source": [
    "a = 6\n",
    "for x in range(0,a):\n",
    "    pass\n",
    "print(x)"
   ]
  },
  {
   "attachments": {},
   "cell_type": "markdown",
   "metadata": {},
   "source": [
    "6) Utilizar un ciclo while para realizar el factorial de un número guardado en una variable, sólo si la variable contiene un número entero mayor a 0"
   ]
  },
  {
   "cell_type": "code",
   "execution_count": 23,
   "metadata": {},
   "outputs": [
    {
     "name": "stdout",
     "output_type": "stream",
     "text": [
      "120\n"
     ]
    }
   ],
   "source": [
    "a = 5\n",
    "factorial = a\n",
    "while a > 2:\n",
    "    a = a-1\n",
    "    factorial = factorial*a\n",
    "print(factorial)"
   ]
  },
  {
   "attachments": {},
   "cell_type": "markdown",
   "metadata": {},
   "source": [
    "7) Crear un ciclo for dentro de un ciclo while"
   ]
  },
  {
   "cell_type": "code",
   "execution_count": 10,
   "metadata": {},
   "outputs": [
    {
     "name": "stdout",
     "output_type": "stream",
     "text": [
      "El valor de x para el ciclo while es:  1\n",
      "El valor de x para el ciclo for es:  1\n",
      "El valor de x para el ciclo while es:  2\n",
      "El valor de x para el ciclo for es:  1\n",
      "El valor de x para el ciclo for es:  2\n",
      "El valor de x para el ciclo while es:  3\n",
      "El valor de x para el ciclo for es:  1\n",
      "El valor de x para el ciclo for es:  2\n",
      "El valor de x para el ciclo for es:  3\n",
      "El valor de x para el ciclo while es:  4\n",
      "El valor de x para el ciclo for es:  1\n",
      "El valor de x para el ciclo for es:  2\n",
      "El valor de x para el ciclo for es:  3\n",
      "El valor de x para el ciclo for es:  4\n",
      "El valor de x para el ciclo while es:  5\n",
      "El valor de x para el ciclo for es:  1\n",
      "El valor de x para el ciclo for es:  2\n",
      "El valor de x para el ciclo for es:  3\n",
      "El valor de x para el ciclo for es:  4\n",
      "El valor de x para el ciclo for es:  5\n"
     ]
    }
   ],
   "source": [
    "x = 1\n",
    "while x < 6:\n",
    "    print(\"El valor de x para el ciclo while es: \",x)\n",
    "    for i in range(1,x+1):\n",
    "        print(\"El valor de x para el ciclo for es: \",i)\n",
    "    x +=1"
   ]
  },
  {
   "attachments": {},
   "cell_type": "markdown",
   "metadata": {},
   "source": [
    "8) Crear un ciclo while dentro de un ciclo for"
   ]
  },
  {
   "cell_type": "code",
   "execution_count": 26,
   "metadata": {},
   "outputs": [
    {
     "name": "stdout",
     "output_type": "stream",
     "text": [
      "El valor del ciclo while es:5\n",
      "El valor del ciclo for es:0\n",
      "El valor del ciclo while es:5\n",
      "El valor del ciclo for es:1\n",
      "El valor del ciclo while es:5\n",
      "El valor del ciclo for es:0\n",
      "El valor del ciclo while es:5\n",
      "El valor del ciclo for es:2\n",
      "El valor del ciclo while es:5\n",
      "El valor del ciclo for es:1\n",
      "El valor del ciclo while es:5\n",
      "El valor del ciclo for es:0\n",
      "El valor del ciclo while es:5\n",
      "El valor del ciclo for es:3\n",
      "El valor del ciclo while es:5\n",
      "El valor del ciclo for es:2\n",
      "El valor del ciclo while es:5\n",
      "El valor del ciclo for es:1\n",
      "El valor del ciclo while es:5\n",
      "El valor del ciclo for es:0\n"
     ]
    }
   ],
   "source": [
    "x = 5\n",
    "for i in range(0, x):\n",
    "    while (i > 0):\n",
    "        i -= 1\n",
    "        print(\"El valor del ciclo while es:\"+ str(x))\n",
    "        print(\"El valor del ciclo for es:\" +str(i))"
   ]
  },
  {
   "attachments": {},
   "cell_type": "markdown",
   "metadata": {},
   "source": [
    "9) Imprimir los números primos existentes entre 0 y 30"
   ]
  },
  {
   "cell_type": "code",
   "execution_count": 38,
   "metadata": {},
   "outputs": [
    {
     "name": "stdout",
     "output_type": "stream",
     "text": [
      "0\n",
      "1\n",
      "2\n",
      "3\n",
      "5\n",
      "7\n",
      "11\n",
      "13\n",
      "17\n",
      "19\n",
      "23\n",
      "29\n"
     ]
    }
   ],
   "source": [
    "max = 30\n",
    "n = 0\n",
    "primo = True\n",
    "while (n < max):\n",
    "    for i in range(2, n):\n",
    "        if n % i ==0:\n",
    "            primo = False\n",
    "    if primo:\n",
    "        print(n)\n",
    "    else:\n",
    "        primo = True\n",
    "    n+=1\n"
   ]
  },
  {
   "attachments": {},
   "cell_type": "markdown",
   "metadata": {},
   "source": [
    "10) ¿Se puede mejorar el proceso del punto 9? Utilizar las sentencias break y/ó continue para tal fin"
   ]
  },
  {
   "cell_type": "code",
   "execution_count": 39,
   "metadata": {},
   "outputs": [
    {
     "name": "stdout",
     "output_type": "stream",
     "text": [
      "0\n",
      "1\n",
      "2\n",
      "3\n",
      "5\n",
      "7\n",
      "11\n",
      "13\n",
      "17\n",
      "19\n",
      "23\n",
      "29\n"
     ]
    }
   ],
   "source": [
    "max = 30\n",
    "n = 0\n",
    "primo = True\n",
    "while (n < max):\n",
    "    for i in range(2, n):\n",
    "        if n % i ==0:\n",
    "            primo = False\n",
    "            break\n",
    "    if primo:\n",
    "        print(n)\n",
    "    else:\n",
    "        primo = True\n",
    "    n+=1"
   ]
  },
  {
   "attachments": {},
   "cell_type": "markdown",
   "metadata": {},
   "source": [
    "11) En los puntos 9 y 10, se diseño un código que encuentra números primos y además se lo optimizó. ¿Es posible saber en qué medida se optimizó?"
   ]
  },
  {
   "cell_type": "code",
   "execution_count": 41,
   "metadata": {},
   "outputs": [
    {
     "name": "stdout",
     "output_type": "stream",
     "text": [
      "0\n",
      "1\n",
      "2\n",
      "3\n",
      "5\n",
      "7\n",
      "11\n",
      "13\n",
      "17\n",
      "19\n",
      "23\n",
      "29\n",
      "los ciclos sin break son:  378\n"
     ]
    }
   ],
   "source": [
    "ciclos_sin_break = 0\n",
    "max = 30\n",
    "n = 0\n",
    "primo = True\n",
    "while (n < max):\n",
    "    for i in range(2, n):\n",
    "        ciclos_sin_break += 1\n",
    "        if n % i ==0:\n",
    "            primo = False\n",
    "    if primo:\n",
    "        print(n)\n",
    "    else:\n",
    "        primo = True\n",
    "    n+=1\n",
    "\n",
    "print(\"los ciclos sin break son: \",ciclos_sin_break)\n"
   ]
  },
  {
   "cell_type": "code",
   "execution_count": 42,
   "metadata": {},
   "outputs": [
    {
     "name": "stdout",
     "output_type": "stream",
     "text": [
      "0\n",
      "1\n",
      "2\n",
      "3\n",
      "5\n",
      "7\n",
      "11\n",
      "13\n",
      "17\n",
      "19\n",
      "23\n",
      "29\n",
      "los ciclos con break son:  134\n"
     ]
    }
   ],
   "source": [
    "ciclos_con_break = 0\n",
    "max = 30\n",
    "n = 0\n",
    "primo = True\n",
    "while (n < max):\n",
    "    for i in range(2, n):\n",
    "        ciclos_con_break +=1\n",
    "        if n % i ==0:\n",
    "            primo = False\n",
    "            break\n",
    "    if primo:\n",
    "        print(n)\n",
    "    else:\n",
    "        primo = True\n",
    "    n+=1\n",
    "print(\"los ciclos con break son: \",ciclos_con_break)"
   ]
  },
  {
   "attachments": {},
   "cell_type": "markdown",
   "metadata": {},
   "source": [
    "12) Aplicando continue, armar un ciclo while que solo imprima los valores divisibles por 12, dentro del rango de números de 100 a 300"
   ]
  },
  {
   "cell_type": "code",
   "execution_count": 47,
   "metadata": {},
   "outputs": [
    {
     "name": "stdout",
     "output_type": "stream",
     "text": [
      "108 es divisible por 12\n",
      "120 es divisible por 12\n",
      "132 es divisible por 12\n",
      "144 es divisible por 12\n",
      "156 es divisible por 12\n",
      "168 es divisible por 12\n",
      "180 es divisible por 12\n",
      "192 es divisible por 12\n",
      "204 es divisible por 12\n",
      "216 es divisible por 12\n",
      "228 es divisible por 12\n",
      "240 es divisible por 12\n",
      "252 es divisible por 12\n",
      "264 es divisible por 12\n",
      "276 es divisible por 12\n",
      "288 es divisible por 12\n",
      "300 es divisible por 12\n"
     ]
    }
   ],
   "source": [
    "n=99\n",
    "while n<=300:\n",
    "    n+=1\n",
    "    if n % 12 != 0:\n",
    "        continue\n",
    "    print(str(n) + \" es divisible por 12\" )"
   ]
  },
  {
   "attachments": {},
   "cell_type": "markdown",
   "metadata": {},
   "source": [
    "13) Utilizar la función **input()** que permite hacer ingresos por teclado, para encontrar números primos y dar la opción al usario de buscar el siguiente"
   ]
  },
  {
   "cell_type": "code",
   "execution_count": 16,
   "metadata": {},
   "outputs": [
    {
     "name": "stdout",
     "output_type": "stream",
     "text": [
      "1\n",
      "quisiera ver el siguiente numero primo?\n",
      "2\n",
      "quisiera ver el siguiente numero primo?\n",
      "3\n",
      "quisiera ver el siguiente numero primo?\n",
      "5\n",
      "quisiera ver el siguiente numero primo?\n",
      "7\n",
      "quisiera ver el siguiente numero primo?\n",
      "11\n",
      "quisiera ver el siguiente numero primo?\n",
      "13\n",
      "quisiera ver el siguiente numero primo?\n",
      "Se finaliza\n"
     ]
    }
   ],
   "source": [
    "\n",
    "#valor = input(print(\"Bienvenido, presione 1 si desea continuar con los numeros primos\"))\n",
    "\n",
    "n=1\n",
    "sigue = 1\n",
    "primo  = True\n",
    "\n",
    "while sigue == 1:\n",
    "    for i in range(2, n):\n",
    "        if n % i == 0:\n",
    "            primo = False\n",
    "            break\n",
    "    if primo:\n",
    "        print(n)\n",
    "        print(\"quisiera ver el siguiente numero primo?\")\n",
    "        if (input()!= '1'):\n",
    "            print(\"Se finaliza\")\n",
    "            break\n",
    "    else:\n",
    "        primo = True\n",
    "    n += 1\n"
   ]
  },
  {
   "attachments": {},
   "cell_type": "markdown",
   "metadata": {},
   "source": [
    "14) Crear un ciclo while que encuentre dentro del rango de 100 a 300 el primer número divisible por 3 y además múltiplo de 6"
   ]
  },
  {
   "cell_type": "code",
   "execution_count": 20,
   "metadata": {},
   "outputs": [
    {
     "name": "stdout",
     "output_type": "stream",
     "text": [
      "el numero buscado es:  102\n"
     ]
    }
   ],
   "source": [
    "i=100\n",
    "while i <= 300:\n",
    "    if i % 3 == 0 & i % 6 ==0:\n",
    "        print(\"el numero buscado es: \", i)\n",
    "        break\n",
    "    i+=1"
   ]
  }
 ],
 "metadata": {
  "interpreter": {
   "hash": "c85384e4cb51c8b72350f3a8712cc8351fdc3955e32a27f9b60c6242ab125f01"
  },
  "kernelspec": {
   "display_name": "Python 3 (ipykernel)",
   "language": "python",
   "name": "python3"
  },
  "language_info": {
   "codemirror_mode": {
    "name": "ipython",
    "version": 3
   },
   "file_extension": ".py",
   "mimetype": "text/x-python",
   "name": "python",
   "nbconvert_exporter": "python",
   "pygments_lexer": "ipython3",
   "version": "3.8.12"
  }
 },
 "nbformat": 4,
 "nbformat_minor": 4
}
